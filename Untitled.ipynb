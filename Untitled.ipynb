{
 "cells": [
  {
   "cell_type": "code",
   "execution_count": 88,
   "metadata": {},
   "outputs": [],
   "source": [
    "thisDict = {\n",
    "    \"path\": \"thisDict\",\n",
    "    \"2\": \"2\",\n",
    "    \"3\": \"3\",\n",
    "    \"5\": \"5\",\n",
    "    \"7\": \"7\",\n",
    "    \"2 x 2\": \"{2} x {2}\",\n",
    "    \"3 x 2\": \"{3} x {2}\",\n",
    "    \"4\": \"{2 x 2}\",\n",
    "    \"6\": \"{3 x 2}\",\n",
    "    \"8\": \"{2 x 2} x {2}\",\n",
    "    \"16\": \"{2 x 2} x {2 x 2}\",\n",
    "    \"96\": \"{16} x {6}\",\n",
    "    \"Model.Root\": \"{96} bottles of {Favored Beverage} on the {House Element}.\",\n",
    "    \"Favored Beverage\": \"b{i}r\",\n",
    "    \"House Element\": \"{wl}\",\n",
    "    \"i\": \"ee\",\n",
    "    \"wl\": \"wall\"\n",
    "}\n",
    "\n",
    "thatDict = {\n",
    "    \"path\": \"thatDict\",\n",
    "    \"13\": \"13\",\n",
    "    \"13 x 13\": \"{13} x {13}\",\n",
    "    \"169\": \"{13 x 13}\",\n",
    "    \"Model.Root\": \"{169} books on the {House Element}-mounted {Furniture}.\",\n",
    "    \"Furniture\": \"b{u}kshelves\",\n",
    "    \"u\": \"oo\"\n",
    "}\n",
    "\n",
    "anotherDict = {\n",
    "    \"path\": \"anotherDict\",\n",
    "    \"11\": \"11\",\n",
    "    \"11 x 11\": \"{11} x {11}\",\n",
    "    \"121\": \"{11 x 11}\",\n",
    "    \"Model.Root\": \"{121} bottles of b{i}r and {Favored Beverage} on the {Furniture}.\",\n",
    "    \"Favored Beverage\": \"whiskey\"\n",
    "}\n",
    "\n",
    "directory = [thisDict, thatDict, anotherDict]\n"
   ]
  },
  {
   "cell_type": "code",
   "execution_count": 93,
   "metadata": {},
   "outputs": [],
   "source": [
    "import re\n",
    "\n",
    "#When there are more than one identical key throughout dictionaries: prioritizes current dict for now -> Later how?\n",
    "#Limitation: We only go through dictionaries in given order\n",
    "\n",
    "def find_value(dictionary, key):\n",
    "    \n",
    "    #Case when the key does not exist in the given dictionary\n",
    "    if key not in dictionary:\n",
    "        for x in range(len(directory)):\n",
    "            if directory[x] != dictionary and key in directory[x]:\n",
    "                return find_value(directory[x], key)\n",
    "            \n",
    "        #When the key does not exist in any of dictionaries\n",
    "        raise KeyError (\"Key not found in directory\")\n",
    "    \n",
    "    #Case when the key exists\n",
    "    else:\n",
    "        value = dictionary[key]\n",
    "        search = [x.group() for x in re.finditer(r'{(.*?)}', value)]\n",
    "        path = \"{\" + key + \"}\" + \" from: \" + dictionary[\"path\"] + \"\\n\"\n",
    "\n",
    "        # End case\n",
    "        if len(search) == 0:\n",
    "            return value, path\n",
    "\n",
    "        else:\n",
    "            for i in range(len(search)):\n",
    "                new_val, new_path = find_value(dictionary, search[i][1:-1])\n",
    "                value = value.replace(search[i], new_val, 1)\n",
    "                path += new_path\n",
    "            return value, path\n"
   ]
  },
  {
   "cell_type": "code",
   "execution_count": 92,
   "metadata": {},
   "outputs": [
    {
     "name": "stdout",
     "output_type": "stream",
     "text": [
      "Value:  11 x 11 bottles of beer and whiskey on the bookshelves.\n",
      "Path:\n",
      " {Model.Root} from: anotherDict\n",
      "{121} from: anotherDict\n",
      "{11 x 11} from: anotherDict\n",
      "{11} from: anotherDict\n",
      "{11} from: anotherDict\n",
      "{i} from: thisDict\n",
      "{Favored Beverage} from: anotherDict\n",
      "{Furniture} from: thatDict\n",
      "{u} from: thatDict\n",
      "\n"
     ]
    }
   ],
   "source": [
    "value, path = find_value(anotherDict, \"Model.Root\")\n",
    "print(\"Value: \", value)\n",
    "print(\"Path:\\n\", path)"
   ]
  },
  {
   "cell_type": "code",
   "execution_count": 68,
   "metadata": {
    "collapsed": true,
    "jupyter": {
     "outputs_hidden": true
    }
   },
   "outputs": [
    {
     "ename": "SyntaxError",
     "evalue": "unexpected EOF while parsing (<ipython-input-68-fc1c877309b7>, line 5)",
     "output_type": "error",
     "traceback": [
      "\u001b[0;36m  File \u001b[0;32m\"<ipython-input-68-fc1c877309b7>\"\u001b[0;36m, line \u001b[0;32m5\u001b[0m\n\u001b[0;31m    \u001b[0m\n\u001b[0m    ^\u001b[0m\n\u001b[0;31mSyntaxError\u001b[0m\u001b[0;31m:\u001b[0m unexpected EOF while parsing\n"
     ]
    }
   ],
   "source": [
    "#Called inside find_value when there is no such key in the given dictionary input\n",
    "#Find the key from other dictionaries, keep log of which path; return\n",
    "#Had to add \"name\" field to all dictionaries to keep track of path\n",
    "def fetch_value(dictionary, key):\n",
    "    "
   ]
  }
 ],
 "metadata": {
  "kernelspec": {
   "display_name": "Python 3",
   "language": "python",
   "name": "python3"
  },
  "language_info": {
   "codemirror_mode": {
    "name": "ipython",
    "version": 3
   },
   "file_extension": ".py",
   "mimetype": "text/x-python",
   "name": "python",
   "nbconvert_exporter": "python",
   "pygments_lexer": "ipython3",
   "version": "3.8.5"
  }
 },
 "nbformat": 4,
 "nbformat_minor": 4
}
