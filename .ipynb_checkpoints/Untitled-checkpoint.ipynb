{
 "cells": [
  {
   "cell_type": "code",
   "execution_count": 26,
   "metadata": {},
   "outputs": [
    {
     "data": {
      "text/plain": [
       "{'2': '2',\n",
       " '3': '3',\n",
       " '5': '5',\n",
       " '7': '7',\n",
       " '2 x 2': '{2} x {2}',\n",
       " '3 x 2': '{3} x {2}',\n",
       " '4': '{2 x 2}',\n",
       " '6': '{3 x 2}',\n",
       " '8': '{2 x 2} x {2}',\n",
       " '16': '{2 x 2} x {2 x 2}',\n",
       " '96': '{16} x {6}',\n",
       " 'Model.Root': '{96} bottles of {Favored Beverage} on the {House Element}.',\n",
       " 'Favored Beverage': 'b{i}r',\n",
       " 'House Element': '{wl}',\n",
       " 'i': 'ee',\n",
       " 'wl': 'wall'}"
      ]
     },
     "execution_count": 26,
     "metadata": {},
     "output_type": "execute_result"
    }
   ],
   "source": [
    "thisDict = {\n",
    "    \"2\": \"2\",\n",
    "    \"3\": \"3\",\n",
    "    \"5\": \"5\",\n",
    "    \"7\": \"7\",\n",
    "    \"2 x 2\": \"{2} x {2}\",\n",
    "    \"3 x 2\": \"{3} x {2}\",\n",
    "    \"4\": \"{2 x 2}\",\n",
    "    \"6\": \"{3 x 2}\",\n",
    "    \"8\": \"{2 x 2} x {2}\",\n",
    "    \"16\": \"{2 x 2} x {2 x 2}\",\n",
    "    \"96\": \"{16} x {6}\",\n",
    "    \"Model.Root\": \"{96} bottles of {Favored Beverage} on the {House Element}.\",\n",
    "    \"Favored Beverage\": \"b{i}r\",\n",
    "    \"House Element\": \"{wl}\",\n",
    "    \"i\": \"ee\",\n",
    "    \"wl\": \"wall\"\n",
    "}\n",
    "thisDict\n"
   ]
  },
  {
   "cell_type": "code",
   "execution_count": 27,
   "metadata": {},
   "outputs": [
    {
     "data": {
      "text/plain": [
       "'{96} bottles of {Favored Beverage} on the {House Element}.'"
      ]
     },
     "execution_count": 27,
     "metadata": {},
     "output_type": "execute_result"
    }
   ],
   "source": [
    "thisDict[\"Model.Root\"]"
   ]
  },
  {
   "cell_type": "code",
   "execution_count": 62,
   "metadata": {},
   "outputs": [
    {
     "data": {
      "text/plain": [
       "'wall'"
      ]
     },
     "execution_count": 62,
     "metadata": {},
     "output_type": "execute_result"
    }
   ],
   "source": [
    "import re\n",
    "\n",
    "def find_value(key):\n",
    "    value = thisDict[key]\n",
    "    search = [x.group() for x in re.finditer(r'{(.*?)}', value)]\n",
    "    \n",
    "    # End case\n",
    "    if len(search) == 0:\n",
    "        return value\n",
    "    \n",
    "    else:\n",
    "        for i in range(len(search)):\n",
    "            new_val = find_value(search[i][1:-1])\n",
    "            value = value.replace(search[i], new_val, 1)\n",
    "        return value\n",
    "\n",
    "find_value(\"House Element\")"
   ]
  },
  {
   "cell_type": "code",
   "execution_count": null,
   "metadata": {},
   "outputs": [],
   "source": []
  }
 ],
 "metadata": {
  "kernelspec": {
   "display_name": "Python 3",
   "language": "python",
   "name": "python3"
  },
  "language_info": {
   "codemirror_mode": {
    "name": "ipython",
    "version": 3
   },
   "file_extension": ".py",
   "mimetype": "text/x-python",
   "name": "python",
   "nbconvert_exporter": "python",
   "pygments_lexer": "ipython3",
   "version": "3.8.5"
  }
 },
 "nbformat": 4,
 "nbformat_minor": 4
}
